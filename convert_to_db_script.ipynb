{
 "cells": [
  {
   "cell_type": "code",
   "execution_count": 1,
   "metadata": {},
   "outputs": [],
   "source": [
    "from os import listdir, chdir"
   ]
  },
  {
   "cell_type": "code",
   "execution_count": 201,
   "metadata": {},
   "outputs": [],
   "source": [
    "import time"
   ]
  },
  {
   "cell_type": "code",
   "execution_count": 2,
   "metadata": {},
   "outputs": [],
   "source": [
    "import pandas as pd\n",
    "import numpy as np\n",
    "\n",
    "import sqlite3\n",
    "\n",
    "conn = sqlite3.connect('ETF.db')\n",
    "\n",
    "c = conn.cursor()"
   ]
  },
  {
   "cell_type": "code",
   "execution_count": 3,
   "metadata": {
    "scrolled": false
   },
   "outputs": [],
   "source": [
    "# get into directory that has data in CSVs\n",
    "chdir('./data')"
   ]
  },
  {
   "cell_type": "code",
   "execution_count": 217,
   "metadata": {},
   "outputs": [],
   "source": [
    "def del_table(cursor, name):\n",
    "    cursor.execute(\"\"\"DROP TABLE {}\"\"\".format(name))"
   ]
  },
  {
   "cell_type": "code",
   "execution_count": 218,
   "metadata": {},
   "outputs": [],
   "source": [
    "def create_table(cursor, name):\n",
    "    cursor.execute(\"\"\"CREATE TABLE {} (date text, open FLOAT, high FLOAT, low FLOAT, close FLOAT, adj_close FLOAT, volume INTEGER)\"\"\".format(name))"
   ]
  },
  {
   "cell_type": "code",
   "execution_count": 219,
   "metadata": {},
   "outputs": [],
   "source": [
    "def insert(cursor, name, values):\n",
    "    query = \"\"\"INSERT INTO {} VALUES(?, ?, ?, ?, ?, ?, ?)\"\"\".format(name)\n",
    "    \n",
    "    cursor.execute(query, values)"
   ]
  },
  {
   "cell_type": "code",
   "execution_count": 254,
   "metadata": {},
   "outputs": [],
   "source": [
    "def retrieve(c,name):\n",
    "    c.execute(\"\"\"SELECT * FROM {}\"\"\".format(name))\n",
    "    \n",
    "    rows = c.fetchall()\n",
    "    \n",
    "    for rows in rows[:5]:\n",
    "        print(row)"
   ]
  },
  {
   "cell_type": "code",
   "execution_count": 24,
   "metadata": {
    "scrolled": true
   },
   "outputs": [
    {
     "name": "stdout",
     "output_type": "stream",
     "text": [
      "/Users/Rich/Desktop/projects/stonk/ETF_scraper/data\r\n"
     ]
    }
   ],
   "source": [
    "!pwd"
   ]
  },
  {
   "cell_type": "code",
   "execution_count": 68,
   "metadata": {},
   "outputs": [
    {
     "data": {
      "text/plain": [
       "<sqlite3.Cursor at 0x106d782d0>"
      ]
     },
     "execution_count": 68,
     "metadata": {},
     "output_type": "execute_result"
    }
   ],
   "source": [
    "c.execute(\"\"\"SELECT * FROM AAAU\"\"\")"
   ]
  },
  {
   "cell_type": "code",
   "execution_count": 69,
   "metadata": {},
   "outputs": [],
   "source": [
    "rows = c.fetchall()"
   ]
  },
  {
   "cell_type": "code",
   "execution_count": 79,
   "metadata": {},
   "outputs": [
    {
     "name": "stdout",
     "output_type": "stream",
     "text": [
      "('2018-08-13', 11.84, 11.84, 11.74, 11.82, 11.82, b'\\xc4\\xc0\\x07\\x00\\x00\\x00\\x00\\x00')\n",
      "('2018-08-20', 11.88, 12.08, 11.85, 12.05, 12.05, b'\\x08\\xe9\\x04\\x00\\x00\\x00\\x00\\x00')\n",
      "('2018-08-27', 12.06, 12.13, 11.97, 12.0, 12.0, b'\\x94T\\x12\\x00\\x00\\x00\\x00\\x00')\n",
      "('2018-09-03', 11.91, 12.07, 11.9, 11.96, 11.96, b'X\\x83\\x10\\x00\\x00\\x00\\x00\\x00')\n",
      "('2018-09-10', 11.97, 12.12, 11.88, 11.93, 11.93, b'\\x8ch\\x01\\x00\\x00\\x00\\x00\\x00')\n"
     ]
    }
   ],
   "source": [
    "for row in rows[:5]:\n",
    "    print(row)"
   ]
  },
  {
   "cell_type": "markdown",
   "metadata": {},
   "source": [
    "# Script"
   ]
  },
  {
   "cell_type": "code",
   "execution_count": 80,
   "metadata": {},
   "outputs": [
    {
     "data": {
      "text/plain": [
       "'BBRE'"
      ]
     },
     "execution_count": 80,
     "metadata": {},
     "output_type": "execute_result"
    }
   ],
   "source": [
    "listdir()[0].split('.')[0]"
   ]
  },
  {
   "cell_type": "code",
   "execution_count": 239,
   "metadata": {},
   "outputs": [],
   "source": [
    "#alphabetically sort directory files and skip the first element which would be a .DS_STORE file\n",
    "files = sorted(listdir())\n",
    "\n",
    "## Script for parsing thru CSVs and insert into Database\n",
    "for file in files[1:]:\n",
    "    #read in data\n",
    "    df = pd.read_csv(file)\n",
    "    \n",
    "    #get the name of the ETF\n",
    "    name = file.split('.')[0]\n",
    "\n",
    "###\n",
    "#Completely clear the DB of all ETFs\n",
    "    try:\n",
    "        del_table(c,name)\n",
    "    except:\n",
    "        continue\n",
    "\n",
    "    create_table(c,name)\n",
    "    conn.commit\n",
    "###\n",
    "\n",
    "#Go through each of the dataframes and insert each line into the db\n",
    "    for i in range(len(df)):\n",
    "        data = df.iloc[i]\n",
    "        \n",
    "        insert(c,name,tuple(data))\n",
    "\n",
    "#after every table, commit and wait 1 second\n",
    "    conn.commit\n",
    "    time.sleep(1)\n",
    "\n",
    "#redefine name to None to make it not be confused in the next iteration\n",
    "    name = None"
   ]
  },
  {
   "cell_type": "code",
   "execution_count": 267,
   "metadata": {
    "scrolled": true
   },
   "outputs": [
    {
     "name": "stdout",
     "output_type": "stream",
     "text": [
      "('2018-09-10', 11.97, 12.12, 11.88, 11.93, 11.93, b'\\x8ch\\x01\\x00\\x00\\x00\\x00\\x00')\n",
      "('2018-09-10', 11.97, 12.12, 11.88, 11.93, 11.93, b'\\x8ch\\x01\\x00\\x00\\x00\\x00\\x00')\n",
      "('2018-09-10', 11.97, 12.12, 11.88, 11.93, 11.93, b'\\x8ch\\x01\\x00\\x00\\x00\\x00\\x00')\n",
      "('2018-09-10', 11.97, 12.12, 11.88, 11.93, 11.93, b'\\x8ch\\x01\\x00\\x00\\x00\\x00\\x00')\n",
      "('2018-09-10', 11.97, 12.12, 11.88, 11.93, 11.93, b'\\x8ch\\x01\\x00\\x00\\x00\\x00\\x00')\n",
      "None\n",
      "('2018-09-10', 11.97, 12.12, 11.88, 11.93, 11.93, b'\\x8ch\\x01\\x00\\x00\\x00\\x00\\x00')\n",
      "('2018-09-10', 11.97, 12.12, 11.88, 11.93, 11.93, b'\\x8ch\\x01\\x00\\x00\\x00\\x00\\x00')\n",
      "('2018-09-10', 11.97, 12.12, 11.88, 11.93, 11.93, b'\\x8ch\\x01\\x00\\x00\\x00\\x00\\x00')\n",
      "('2018-09-10', 11.97, 12.12, 11.88, 11.93, 11.93, b'\\x8ch\\x01\\x00\\x00\\x00\\x00\\x00')\n",
      "('2018-09-10', 11.97, 12.12, 11.88, 11.93, 11.93, b'\\x8ch\\x01\\x00\\x00\\x00\\x00\\x00')\n",
      "None\n",
      "('2018-09-10', 11.97, 12.12, 11.88, 11.93, 11.93, b'\\x8ch\\x01\\x00\\x00\\x00\\x00\\x00')\n",
      "('2018-09-10', 11.97, 12.12, 11.88, 11.93, 11.93, b'\\x8ch\\x01\\x00\\x00\\x00\\x00\\x00')\n",
      "('2018-09-10', 11.97, 12.12, 11.88, 11.93, 11.93, b'\\x8ch\\x01\\x00\\x00\\x00\\x00\\x00')\n",
      "('2018-09-10', 11.97, 12.12, 11.88, 11.93, 11.93, b'\\x8ch\\x01\\x00\\x00\\x00\\x00\\x00')\n",
      "('2018-09-10', 11.97, 12.12, 11.88, 11.93, 11.93, b'\\x8ch\\x01\\x00\\x00\\x00\\x00\\x00')\n",
      "None\n",
      "('2018-09-10', 11.97, 12.12, 11.88, 11.93, 11.93, b'\\x8ch\\x01\\x00\\x00\\x00\\x00\\x00')\n",
      "('2018-09-10', 11.97, 12.12, 11.88, 11.93, 11.93, b'\\x8ch\\x01\\x00\\x00\\x00\\x00\\x00')\n",
      "('2018-09-10', 11.97, 12.12, 11.88, 11.93, 11.93, b'\\x8ch\\x01\\x00\\x00\\x00\\x00\\x00')\n",
      "('2018-09-10', 11.97, 12.12, 11.88, 11.93, 11.93, b'\\x8ch\\x01\\x00\\x00\\x00\\x00\\x00')\n",
      "('2018-09-10', 11.97, 12.12, 11.88, 11.93, 11.93, b'\\x8ch\\x01\\x00\\x00\\x00\\x00\\x00')\n",
      "None\n",
      "('2018-09-10', 11.97, 12.12, 11.88, 11.93, 11.93, b'\\x8ch\\x01\\x00\\x00\\x00\\x00\\x00')\n",
      "('2018-09-10', 11.97, 12.12, 11.88, 11.93, 11.93, b'\\x8ch\\x01\\x00\\x00\\x00\\x00\\x00')\n",
      "('2018-09-10', 11.97, 12.12, 11.88, 11.93, 11.93, b'\\x8ch\\x01\\x00\\x00\\x00\\x00\\x00')\n",
      "('2018-09-10', 11.97, 12.12, 11.88, 11.93, 11.93, b'\\x8ch\\x01\\x00\\x00\\x00\\x00\\x00')\n",
      "('2018-09-10', 11.97, 12.12, 11.88, 11.93, 11.93, b'\\x8ch\\x01\\x00\\x00\\x00\\x00\\x00')\n",
      "None\n"
     ]
    }
   ],
   "source": [
    "#Check to see if we were able to store the data\n",
    "for file in files[1:6]:\n",
    "    print(retrieve(c,'AAAU'))"
   ]
  },
  {
   "cell_type": "code",
   "execution_count": 246,
   "metadata": {
    "scrolled": false
   },
   "outputs": [
    {
     "name": "stdout",
     "output_type": "stream",
     "text": [
      "('2018-09-10', 11.97, 12.12, 11.88, 11.93, 11.93, b'\\x8ch\\x01\\x00\\x00\\x00\\x00\\x00')\n",
      "('2018-09-10', 11.97, 12.12, 11.88, 11.93, 11.93, b'\\x8ch\\x01\\x00\\x00\\x00\\x00\\x00')\n",
      "('2018-09-10', 11.97, 12.12, 11.88, 11.93, 11.93, b'\\x8ch\\x01\\x00\\x00\\x00\\x00\\x00')\n",
      "('2018-09-10', 11.97, 12.12, 11.88, 11.93, 11.93, b'\\x8ch\\x01\\x00\\x00\\x00\\x00\\x00')\n",
      "('2018-09-10', 11.97, 12.12, 11.88, 11.93, 11.93, b'\\x8ch\\x01\\x00\\x00\\x00\\x00\\x00')\n"
     ]
    }
   ],
   "source": [
    "retrieve(c,'AAAU.csv'.split('.')[0])"
   ]
  },
  {
   "cell_type": "code",
   "execution_count": 268,
   "metadata": {},
   "outputs": [],
   "source": [
    "#data is inserting the same data over and over. Need to fix script"
   ]
  },
  {
   "cell_type": "code",
   "execution_count": null,
   "metadata": {},
   "outputs": [],
   "source": []
  },
  {
   "cell_type": "code",
   "execution_count": null,
   "metadata": {},
   "outputs": [],
   "source": []
  },
  {
   "cell_type": "markdown",
   "metadata": {},
   "source": [
    "The last volume column returns as bytes. To convert need to use from_bytes method when parsing data"
   ]
  },
  {
   "cell_type": "code",
   "execution_count": 263,
   "metadata": {},
   "outputs": [
    {
     "name": "stdout",
     "output_type": "stream",
     "text": [
      "('2018-09-10', 11.97, 12.12, 11.88, 11.93, 11.93, b'\\x8ch\\x01\\x00\\x00\\x00\\x00\\x00')\n",
      "('2018-09-10', 11.97, 12.12, 11.88, 11.93, 11.93, b'\\x8ch\\x01\\x00\\x00\\x00\\x00\\x00')\n",
      "('2018-09-10', 11.97, 12.12, 11.88, 11.93, 11.93, b'\\x8ch\\x01\\x00\\x00\\x00\\x00\\x00')\n",
      "('2018-09-10', 11.97, 12.12, 11.88, 11.93, 11.93, b'\\x8ch\\x01\\x00\\x00\\x00\\x00\\x00')\n",
      "('2018-09-10', 11.97, 12.12, 11.88, 11.93, 11.93, b'\\x8ch\\x01\\x00\\x00\\x00\\x00\\x00')\n",
      "None\n",
      "('2018-09-10', 11.97, 12.12, 11.88, 11.93, 11.93, b'\\x8ch\\x01\\x00\\x00\\x00\\x00\\x00')\n",
      "('2018-09-10', 11.97, 12.12, 11.88, 11.93, 11.93, b'\\x8ch\\x01\\x00\\x00\\x00\\x00\\x00')\n",
      "('2018-09-10', 11.97, 12.12, 11.88, 11.93, 11.93, b'\\x8ch\\x01\\x00\\x00\\x00\\x00\\x00')\n",
      "('2018-09-10', 11.97, 12.12, 11.88, 11.93, 11.93, b'\\x8ch\\x01\\x00\\x00\\x00\\x00\\x00')\n",
      "('2018-09-10', 11.97, 12.12, 11.88, 11.93, 11.93, b'\\x8ch\\x01\\x00\\x00\\x00\\x00\\x00')\n",
      "None\n",
      "('2018-09-10', 11.97, 12.12, 11.88, 11.93, 11.93, b'\\x8ch\\x01\\x00\\x00\\x00\\x00\\x00')\n",
      "('2018-09-10', 11.97, 12.12, 11.88, 11.93, 11.93, b'\\x8ch\\x01\\x00\\x00\\x00\\x00\\x00')\n",
      "('2018-09-10', 11.97, 12.12, 11.88, 11.93, 11.93, b'\\x8ch\\x01\\x00\\x00\\x00\\x00\\x00')\n",
      "('2018-09-10', 11.97, 12.12, 11.88, 11.93, 11.93, b'\\x8ch\\x01\\x00\\x00\\x00\\x00\\x00')\n",
      "('2018-09-10', 11.97, 12.12, 11.88, 11.93, 11.93, b'\\x8ch\\x01\\x00\\x00\\x00\\x00\\x00')\n",
      "None\n",
      "('2018-09-10', 11.97, 12.12, 11.88, 11.93, 11.93, b'\\x8ch\\x01\\x00\\x00\\x00\\x00\\x00')\n",
      "('2018-09-10', 11.97, 12.12, 11.88, 11.93, 11.93, b'\\x8ch\\x01\\x00\\x00\\x00\\x00\\x00')\n",
      "('2018-09-10', 11.97, 12.12, 11.88, 11.93, 11.93, b'\\x8ch\\x01\\x00\\x00\\x00\\x00\\x00')\n",
      "('2018-09-10', 11.97, 12.12, 11.88, 11.93, 11.93, b'\\x8ch\\x01\\x00\\x00\\x00\\x00\\x00')\n",
      "('2018-09-10', 11.97, 12.12, 11.88, 11.93, 11.93, b'\\x8ch\\x01\\x00\\x00\\x00\\x00\\x00')\n",
      "None\n",
      "('2018-09-10', 11.97, 12.12, 11.88, 11.93, 11.93, b'\\x8ch\\x01\\x00\\x00\\x00\\x00\\x00')\n",
      "('2018-09-10', 11.97, 12.12, 11.88, 11.93, 11.93, b'\\x8ch\\x01\\x00\\x00\\x00\\x00\\x00')\n",
      "('2018-09-10', 11.97, 12.12, 11.88, 11.93, 11.93, b'\\x8ch\\x01\\x00\\x00\\x00\\x00\\x00')\n",
      "('2018-09-10', 11.97, 12.12, 11.88, 11.93, 11.93, b'\\x8ch\\x01\\x00\\x00\\x00\\x00\\x00')\n",
      "('2018-09-10', 11.97, 12.12, 11.88, 11.93, 11.93, b'\\x8ch\\x01\\x00\\x00\\x00\\x00\\x00')\n",
      "None\n"
     ]
    }
   ],
   "source": [
    "#Check to see if we were able to store the data\n",
    "for file in files[1:6]:\n",
    "    data = retrieve(c,file.split('.')[0])\n"
   ]
  },
  {
   "cell_type": "code",
   "execution_count": 255,
   "metadata": {
    "scrolled": true
   },
   "outputs": [
    {
     "data": {
      "text/plain": [
       "bytes"
      ]
     },
     "execution_count": 255,
     "metadata": {},
     "output_type": "execute_result"
    }
   ],
   "source": [
    "type(rows[0][-1])"
   ]
  },
  {
   "cell_type": "code",
   "execution_count": 61,
   "metadata": {
    "scrolled": true
   },
   "outputs": [
    {
     "data": {
      "text/plain": [
       "int"
      ]
     },
     "execution_count": 61,
     "metadata": {},
     "output_type": "execute_result"
    }
   ],
   "source": [
    "type(int.from_bytes(rows[0][-1],byteorder = 'little'))"
   ]
  },
  {
   "cell_type": "code",
   "execution_count": 78,
   "metadata": {
    "scrolled": false
   },
   "outputs": [
    {
     "name": "stdout",
     "output_type": "stream",
     "text": [
      "508100\n",
      "321800\n",
      "1201300\n",
      "1082200\n",
      "92300\n"
     ]
    }
   ],
   "source": [
    "for row in rows[:5]:\n",
    "    print(int.from_bytes(row[-1], byteorder = 'little'))"
   ]
  },
  {
   "cell_type": "code",
   "execution_count": null,
   "metadata": {},
   "outputs": [],
   "source": []
  }
 ],
 "metadata": {
  "kernelspec": {
   "display_name": "Python 3",
   "language": "python",
   "name": "python3"
  },
  "language_info": {
   "codemirror_mode": {
    "name": "ipython",
    "version": 3
   },
   "file_extension": ".py",
   "mimetype": "text/x-python",
   "name": "python",
   "nbconvert_exporter": "python",
   "pygments_lexer": "ipython3",
   "version": "3.7.6"
  }
 },
 "nbformat": 4,
 "nbformat_minor": 4
}
