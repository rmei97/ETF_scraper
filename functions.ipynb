{
 "cells": [
  {
   "cell_type": "code",
   "execution_count": null,
   "metadata": {},
   "outputs": [],
   "source": [
    "def del_table(cursor, name):\n",
    "    query = \"\"\"DROP TABLE {}\"\"\".format(name)\n",
    "    cursor.execute(query + \";\")"
   ]
  },
  {
   "cell_type": "code",
   "execution_count": null,
   "metadata": {},
   "outputs": [],
   "source": [
    "def create_table(cursor, name):\n",
    "    query = \"\"\"CREATE TABLE {} (date text, open FLOAT, high FLOAT, low FLOAT, close FLOAT, adj_close FLOAT, volume INTEGER)\"\"\".format(name)\n",
    "    cursor.execute(query + \";\")\n",
    "\n",
    "def insert(cursor, name, values):\n",
    "    query = \"\"\"INSERT INTO {} VALUES(?, ?, ?, ?, ?, ?, ?)\"\"\".format(name) + \";\"\n",
    "    \n",
    "    cursor.execute(query, values)\n",
    "\n",
    "def retrieve(c,name):\n",
    "    query = \"\"\"SELECT * FROM {}\"\"\".format(name) + \";\"\n",
    "    c.execute(query)\n",
    "    \n",
    "    rows = c.fetchall()\n",
    "    \n",
    "    for row in rows[:5]:\n",
    "        print(row)"
   ]
  },
  {
   "cell_type": "code",
   "execution_count": null,
   "metadata": {},
   "outputs": [],
   "source": [
    "def retrieve(c,name):\n",
    "    # ------ Getting from SQL DB ----- # \n",
    "    query = \"\"\"SELECT * FROM {}\"\"\".format(name) + \";\"\n",
    "    c.execute(query)\n",
    "    \n",
    "    rows = c.fetchall()\n",
    "    data = []\n",
    "    for row in rows:\n",
    "        data.append(row)\n",
    "\n",
    "    # ----- Cleaning output ----- #\n",
    "    columns = ['Date','Open','High','Low','Close','Adj_Close','Volume']\n",
    "    data = pd.DataFrame(data, columns = columns)\n",
    "    \n",
    "    #clean data\n",
    "    data['Date'] = pd.to_datetime(data['Date'])\n",
    "    data['Volume'] = [int.from_bytes(value, byteorder = 'little') for value in data['Volume']]\n",
    "    \n",
    "    return data"
   ]
  },
  {
   "cell_type": "code",
   "execution_count": null,
   "metadata": {},
   "outputs": [],
   "source": [
    "def prophetize(data,p):\n",
    "    m = Prophet() #initailize\n",
    "    \n",
    "    #format data\n",
    "    df = data.loc[:,['Date','Open']]\n",
    "    df.rename(columns = {'Date': 'ds', 'Open': 'y'}, inplace = True)\n",
    "    \n",
    "    #fit and forecast\n",
    "    model = m.fit(df) \n",
    "    future_frame = model.make_future_dataframe(periods=p, freq = 'W')\n",
    "    forecast = model.predict(future_frame)\n",
    "    \n",
    "    #Get summary stats\n",
    "    summary = pd.DataFrame()\n",
    "    summary['Original'] = data['Open'].values\n",
    "    summary['Forecast'] = forecast['yhat'].values[:-4]\n",
    "    \n",
    "    summary['Error'] = summary['Forecast'] - summary['Original']\n",
    "    summary['Error^2'] = summary['Error']**2\n",
    "    \n",
    "    RMSE = np.sqrt(sum(summary['Error^2']/len(summary)))\n",
    "    \n",
    "    return (RMSE, forecast, summary)"
   ]
  }
 ],
 "metadata": {
  "kernelspec": {
   "display_name": "Python 3",
   "language": "python",
   "name": "python3"
  },
  "language_info": {
   "codemirror_mode": {
    "name": "ipython",
    "version": 3
   },
   "file_extension": ".py",
   "mimetype": "text/x-python",
   "name": "python",
   "nbconvert_exporter": "python",
   "pygments_lexer": "ipython3",
   "version": "3.7.6"
  }
 },
 "nbformat": 4,
 "nbformat_minor": 4
}
