{
 "cells": [
  {
   "cell_type": "code",
   "execution_count": 1,
   "metadata": {},
   "outputs": [],
   "source": [
    "from os import listdir, chdir"
   ]
  },
  {
   "cell_type": "code",
   "execution_count": 2,
   "metadata": {},
   "outputs": [],
   "source": [
    "import sqlite3\n",
    "import pandas as pd\n",
    "import numpy as np"
   ]
  },
  {
   "cell_type": "code",
   "execution_count": 3,
   "metadata": {},
   "outputs": [],
   "source": [
    "from statsmodels.tsa.stattools import adfuller\n",
    "from statsmodels.graphics.tsaplots import plot_pacf\n",
    "from statsmodels.graphics.tsaplots import plot_acf\n",
    "from statsmodels.tsa.arima_model import ARIMA\n",
    "from statsmodels.tsa.arima_model import ARMA"
   ]
  },
  {
   "cell_type": "code",
   "execution_count": 4,
   "metadata": {},
   "outputs": [],
   "source": [
    "def retrieve(c,name):\n",
    "    query = \"\"\"SELECT * FROM {}\"\"\".format(name) + \";\"\n",
    "    c.execute(query)\n",
    "    \n",
    "    rows = c.fetchall()\n",
    "    data = []\n",
    "    for row in rows:\n",
    "        data.append(row)\n",
    "    return data"
   ]
  },
  {
   "cell_type": "code",
   "execution_count": 5,
   "metadata": {},
   "outputs": [],
   "source": [
    "chdir('./data')"
   ]
  },
  {
   "cell_type": "code",
   "execution_count": 6,
   "metadata": {},
   "outputs": [],
   "source": [
    "conn = sqlite3.connect('ETF.db')\n",
    "\n",
    "c = conn.cursor()"
   ]
  },
  {
   "cell_type": "markdown",
   "metadata": {},
   "source": [
    "#### Get and Clean Data for 1 stock"
   ]
  },
  {
   "cell_type": "code",
   "execution_count": 7,
   "metadata": {},
   "outputs": [],
   "source": [
    "a = retrieve(c,'AAAU')"
   ]
  },
  {
   "cell_type": "code",
   "execution_count": 12,
   "metadata": {},
   "outputs": [
    {
     "data": {
      "text/html": [
       "<div>\n",
       "<style scoped>\n",
       "    .dataframe tbody tr th:only-of-type {\n",
       "        vertical-align: middle;\n",
       "    }\n",
       "\n",
       "    .dataframe tbody tr th {\n",
       "        vertical-align: top;\n",
       "    }\n",
       "\n",
       "    .dataframe thead th {\n",
       "        text-align: right;\n",
       "    }\n",
       "</style>\n",
       "<table border=\"1\" class=\"dataframe\">\n",
       "  <thead>\n",
       "    <tr style=\"text-align: right;\">\n",
       "      <th></th>\n",
       "      <th>Date</th>\n",
       "      <th>Open</th>\n",
       "      <th>High</th>\n",
       "      <th>Low</th>\n",
       "      <th>Close</th>\n",
       "      <th>Adj_Close</th>\n",
       "      <th>Volume</th>\n",
       "    </tr>\n",
       "  </thead>\n",
       "  <tbody>\n",
       "    <tr>\n",
       "      <th>0</th>\n",
       "      <td>2018-08-13</td>\n",
       "      <td>11.84</td>\n",
       "      <td>11.84</td>\n",
       "      <td>11.74</td>\n",
       "      <td>11.82</td>\n",
       "      <td>11.82</td>\n",
       "      <td>b'\\xc4\\xc0\\x07\\x00\\x00\\x00\\x00\\x00'</td>\n",
       "    </tr>\n",
       "    <tr>\n",
       "      <th>1</th>\n",
       "      <td>2018-08-20</td>\n",
       "      <td>11.88</td>\n",
       "      <td>12.08</td>\n",
       "      <td>11.85</td>\n",
       "      <td>12.05</td>\n",
       "      <td>12.05</td>\n",
       "      <td>b'\\x08\\xe9\\x04\\x00\\x00\\x00\\x00\\x00'</td>\n",
       "    </tr>\n",
       "    <tr>\n",
       "      <th>2</th>\n",
       "      <td>2018-08-27</td>\n",
       "      <td>12.06</td>\n",
       "      <td>12.13</td>\n",
       "      <td>11.97</td>\n",
       "      <td>12.00</td>\n",
       "      <td>12.00</td>\n",
       "      <td>b'\\x94T\\x12\\x00\\x00\\x00\\x00\\x00'</td>\n",
       "    </tr>\n",
       "    <tr>\n",
       "      <th>3</th>\n",
       "      <td>2018-09-03</td>\n",
       "      <td>11.91</td>\n",
       "      <td>12.07</td>\n",
       "      <td>11.90</td>\n",
       "      <td>11.96</td>\n",
       "      <td>11.96</td>\n",
       "      <td>b'X\\x83\\x10\\x00\\x00\\x00\\x00\\x00'</td>\n",
       "    </tr>\n",
       "    <tr>\n",
       "      <th>4</th>\n",
       "      <td>2018-09-10</td>\n",
       "      <td>11.97</td>\n",
       "      <td>12.12</td>\n",
       "      <td>11.88</td>\n",
       "      <td>11.93</td>\n",
       "      <td>11.93</td>\n",
       "      <td>b'\\x8ch\\x01\\x00\\x00\\x00\\x00\\x00'</td>\n",
       "    </tr>\n",
       "  </tbody>\n",
       "</table>\n",
       "</div>"
      ],
      "text/plain": [
       "         Date   Open   High    Low  Close  Adj_Close  \\\n",
       "0  2018-08-13  11.84  11.84  11.74  11.82      11.82   \n",
       "1  2018-08-20  11.88  12.08  11.85  12.05      12.05   \n",
       "2  2018-08-27  12.06  12.13  11.97  12.00      12.00   \n",
       "3  2018-09-03  11.91  12.07  11.90  11.96      11.96   \n",
       "4  2018-09-10  11.97  12.12  11.88  11.93      11.93   \n",
       "\n",
       "                                Volume  \n",
       "0  b'\\xc4\\xc0\\x07\\x00\\x00\\x00\\x00\\x00'  \n",
       "1  b'\\x08\\xe9\\x04\\x00\\x00\\x00\\x00\\x00'  \n",
       "2     b'\\x94T\\x12\\x00\\x00\\x00\\x00\\x00'  \n",
       "3     b'X\\x83\\x10\\x00\\x00\\x00\\x00\\x00'  \n",
       "4     b'\\x8ch\\x01\\x00\\x00\\x00\\x00\\x00'  "
      ]
     },
     "execution_count": 12,
     "metadata": {},
     "output_type": "execute_result"
    }
   ],
   "source": [
    "columns = ['Date','Open','High','Low','Close','Adj_Close','Volume']\n",
    "data = pd.DataFrame(a, columns = columns)\n",
    "data.head()"
   ]
  },
  {
   "cell_type": "code",
   "execution_count": 16,
   "metadata": {},
   "outputs": [],
   "source": [
    "data['Date'] = pd.to_datetime(data['Date'])"
   ]
  },
  {
   "cell_type": "code",
   "execution_count": 19,
   "metadata": {},
   "outputs": [],
   "source": [
    "#Convert byte values in Volume to int \n",
    "data['Volume'] = [int.from_bytes(value, byteorder = 'little') for value in data['Volume']]"
   ]
  },
  {
   "cell_type": "code",
   "execution_count": 21,
   "metadata": {},
   "outputs": [
    {
     "name": "stdout",
     "output_type": "stream",
     "text": [
      "<class 'pandas.core.frame.DataFrame'>\n",
      "RangeIndex: 105 entries, 0 to 104\n",
      "Data columns (total 7 columns):\n",
      " #   Column     Non-Null Count  Dtype         \n",
      "---  ------     --------------  -----         \n",
      " 0   Date       105 non-null    datetime64[ns]\n",
      " 1   Open       105 non-null    float64       \n",
      " 2   High       105 non-null    float64       \n",
      " 3   Low        105 non-null    float64       \n",
      " 4   Close      105 non-null    float64       \n",
      " 5   Adj_Close  105 non-null    float64       \n",
      " 6   Volume     105 non-null    int64         \n",
      "dtypes: datetime64[ns](1), float64(5), int64(1)\n",
      "memory usage: 5.9 KB\n"
     ]
    }
   ],
   "source": [
    "data.info()"
   ]
  },
  {
   "cell_type": "code",
   "execution_count": 25,
   "metadata": {},
   "outputs": [
    {
     "data": {
      "text/plain": [
       "<matplotlib.axes._subplots.AxesSubplot at 0x1a2204b410>"
      ]
     },
     "execution_count": 25,
     "metadata": {},
     "output_type": "execute_result"
    },
    {
     "data": {
      "image/png": "[encoded data removed]",
      "text/plain": [
       "<Figure size 432x288 with 1 Axes>"
      ]
     },
     "metadata": {
      "needs_background": "light"
     },
     "output_type": "display_data"
    }
   ],
   "source": [
    "data.plot('Date','Open',kind = 'line')"
   ]
  },
  {
   "cell_type": "code",
   "execution_count": 127,
   "metadata": {},
   "outputs": [
    {
     "name": "stdout",
     "output_type": "stream",
     "text": [
      "\n"
     ]
    },
    {
     "data": {
      "image/png": "[encoded data removed]",
      "text/plain": [
       "<Figure size 432x288 with 1 Axes>"
      ]
     },
     "metadata": {
      "needs_background": "light"
     },
     "output_type": "display_data"
    },
    {
     "data": {
      "image/png": "[encoded data removed]",
      "text/plain": [
       "<Figure size 432x288 with 1 Axes>"
      ]
     },
     "metadata": {
      "needs_background": "light"
     },
     "output_type": "display_data"
    }
   ],
   "source": [
    "plot_acf(data['Open'])\n",
    "plot_pacf(data['Open'])\n",
    "print()"
   ]
  },
  {
   "cell_type": "code",
   "execution_count": 130,
   "metadata": {},
   "outputs": [],
   "source": [
    "_ = ['AAAU','AADR']\n",
    "for ETF in _:\n",
    "    fetch = retrieve(c,ETF)\n",
    "    columns = ['Date','Open','High','Low','Close','Adj_Close','Volume']\n",
    "    data = pd.DataFrame(fetch, columns = columns)\n",
    "\n",
    "    data['Date'] = pd.to_datetime(data['Date'])\n",
    "    #Convert byte values in Volume to int \n",
    "    data['Volume'] = [int.from_bytes(value, byteorder = 'little') for value in data['Volume']]\n",
    "    \n",
    "    for i in range(1,10):\n",
    "        diff = data['Open'].diff(periods = i)[i:]\n",
    "        if adfuller(diff)[1] < 0:\n",
    "            new_data = diff\n",
    "            print('Differenced at: ' + str(i))\n",
    "            continue\n"
   ]
  },
  {
   "cell_type": "code",
   "execution_count": 138,
   "metadata": {},
   "outputs": [
    {
     "data": {
      "text/plain": [
       "False"
      ]
     },
     "execution_count": 138,
     "metadata": {},
     "output_type": "execute_result"
    }
   ],
   "source": [
    "diff = data['Open'].diff(periods = 1)[1:]\n",
    "\n",
    "adfuller(diff)[1] < 0 #not properly comparing numpy float to be less than 0 for some reason. this is needed for\n",
    "#finding significant results"
   ]
  },
  {
   "cell_type": "code",
   "execution_count": 139,
   "metadata": {},
   "outputs": [
    {
     "data": {
      "text/plain": [
       "0.0"
      ]
     },
     "execution_count": 139,
     "metadata": {},
     "output_type": "execute_result"
    }
   ],
   "source": [
    "adfuller(diff)[1] "
   ]
  },
  {
   "cell_type": "code",
   "execution_count": null,
   "metadata": {},
   "outputs": [],
   "source": []
  }
 ],
 "metadata": {
  "kernelspec": {
   "display_name": "Python 3",
   "language": "python",
   "name": "python3"
  },
  "language_info": {
   "codemirror_mode": {
    "name": "ipython",
    "version": 3
   },
   "file_extension": ".py",
   "mimetype": "text/x-python",
   "name": "python",
   "nbconvert_exporter": "python",
   "pygments_lexer": "ipython3",
   "version": "3.7.6"
  }
 },
 "nbformat": 4,
 "nbformat_minor": 4
}
