{
 "cells": [
  {
   "cell_type": "code",
   "execution_count": 1,
   "metadata": {},
   "outputs": [],
   "source": [
    "from os import listdir, chdir"
   ]
  },
  {
   "cell_type": "code",
   "execution_count": 2,
   "metadata": {},
   "outputs": [],
   "source": [
    "import time"
   ]
  },
  {
   "cell_type": "code",
   "execution_count": 43,
   "metadata": {},
   "outputs": [],
   "source": [
    "import pandas as pd\n",
    "import numpy as np\n",
    "\n",
    "import sqlite3\n",
    "\n",
    "conn = sqlite3.connect('ETF.db')\n",
    "\n",
    "c = conn.cursor()"
   ]
  },
  {
   "cell_type": "code",
   "execution_count": 4,
   "metadata": {
    "scrolled": false
   },
   "outputs": [],
   "source": [
    "# get into directory that has data in CSVs\n",
    "chdir('./data')"
   ]
  },
  {
   "cell_type": "code",
   "execution_count": 5,
   "metadata": {},
   "outputs": [],
   "source": [
    "def del_table(cursor, name):\n",
    "    query = \"\"\"DROP TABLE {}\"\"\".format(name)\n",
    "    cursor.execute(query + \";\")"
   ]
  },
  {
   "cell_type": "code",
   "execution_count": 6,
   "metadata": {},
   "outputs": [],
   "source": [
    "def create_table(cursor, name):\n",
    "    query = \"\"\"CREATE TABLE {} (date text, open FLOAT, high FLOAT, low FLOAT, close FLOAT, adj_close FLOAT, volume INTEGER)\"\"\".format(name)\n",
    "    cursor.execute(query + \";\")"
   ]
  },
  {
   "cell_type": "code",
   "execution_count": 7,
   "metadata": {},
   "outputs": [],
   "source": [
    "def insert(cursor, name, values):\n",
    "    query = \"\"\"INSERT INTO {} VALUES(?, ?, ?, ?, ?, ?, ?)\"\"\".format(name) + \";\"\n",
    "    \n",
    "    cursor.execute(query, values)"
   ]
  },
  {
   "cell_type": "code",
   "execution_count": 33,
   "metadata": {},
   "outputs": [],
   "source": [
    "def retrieve(c,name):\n",
    "    query = \"\"\"SELECT * FROM {}\"\"\".format(name) + \";\"\n",
    "    c.execute(query)\n",
    "    \n",
    "    rows = c.fetchall()\n",
    "    \n",
    "    for row in rows[:5]:\n",
    "        print(row)"
   ]
  },
  {
   "cell_type": "code",
   "execution_count": 9,
   "metadata": {
    "scrolled": true
   },
   "outputs": [
    {
     "name": "stdout",
     "output_type": "stream",
     "text": [
      "/Users/Rich/Desktop/projects/stonk/ETF_scraper/data\r\n"
     ]
    }
   ],
   "source": [
    "!pwd"
   ]
  },
  {
   "cell_type": "code",
   "execution_count": null,
   "metadata": {},
   "outputs": [],
   "source": [
    "c.execute(\"\"\"SELECT * FROM AAAU\"\"\")"
   ]
  },
  {
   "cell_type": "code",
   "execution_count": null,
   "metadata": {},
   "outputs": [],
   "source": [
    "rows = c.fetchall()"
   ]
  },
  {
   "cell_type": "code",
   "execution_count": null,
   "metadata": {},
   "outputs": [],
   "source": [
    "for row in rows[:5]:\n",
    "    print(row)"
   ]
  },
  {
   "cell_type": "markdown",
   "metadata": {},
   "source": [
    "# Script"
   ]
  },
  {
   "cell_type": "code",
   "execution_count": null,
   "metadata": {},
   "outputs": [],
   "source": [
    "listdir()[0].split('.')[0]"
   ]
  },
  {
   "cell_type": "code",
   "execution_count": 19,
   "metadata": {},
   "outputs": [
    {
     "data": {
      "text/html": [
       "<div>\n",
       "<style scoped>\n",
       "    .dataframe tbody tr th:only-of-type {\n",
       "        vertical-align: middle;\n",
       "    }\n",
       "\n",
       "    .dataframe tbody tr th {\n",
       "        vertical-align: top;\n",
       "    }\n",
       "\n",
       "    .dataframe thead th {\n",
       "        text-align: right;\n",
       "    }\n",
       "</style>\n",
       "<table border=\"1\" class=\"dataframe\">\n",
       "  <thead>\n",
       "    <tr style=\"text-align: right;\">\n",
       "      <th></th>\n",
       "      <th>Date</th>\n",
       "      <th>Open</th>\n",
       "      <th>High</th>\n",
       "      <th>Low</th>\n",
       "      <th>Close</th>\n",
       "      <th>Adj Close</th>\n",
       "      <th>Volume</th>\n",
       "    </tr>\n",
       "  </thead>\n",
       "  <tbody>\n",
       "    <tr>\n",
       "      <th>0</th>\n",
       "      <td>2018-08-13</td>\n",
       "      <td>11.840000</td>\n",
       "      <td>11.840000</td>\n",
       "      <td>11.740000</td>\n",
       "      <td>11.820000</td>\n",
       "      <td>11.820000</td>\n",
       "      <td>508100</td>\n",
       "    </tr>\n",
       "    <tr>\n",
       "      <th>1</th>\n",
       "      <td>2018-08-20</td>\n",
       "      <td>11.880000</td>\n",
       "      <td>12.080000</td>\n",
       "      <td>11.850000</td>\n",
       "      <td>12.050000</td>\n",
       "      <td>12.050000</td>\n",
       "      <td>321800</td>\n",
       "    </tr>\n",
       "    <tr>\n",
       "      <th>2</th>\n",
       "      <td>2018-08-27</td>\n",
       "      <td>12.060000</td>\n",
       "      <td>12.130000</td>\n",
       "      <td>11.970000</td>\n",
       "      <td>12.000000</td>\n",
       "      <td>12.000000</td>\n",
       "      <td>1201300</td>\n",
       "    </tr>\n",
       "    <tr>\n",
       "      <th>3</th>\n",
       "      <td>2018-09-03</td>\n",
       "      <td>11.910000</td>\n",
       "      <td>12.070000</td>\n",
       "      <td>11.900000</td>\n",
       "      <td>11.960000</td>\n",
       "      <td>11.960000</td>\n",
       "      <td>1082200</td>\n",
       "    </tr>\n",
       "    <tr>\n",
       "      <th>4</th>\n",
       "      <td>2018-09-10</td>\n",
       "      <td>11.970000</td>\n",
       "      <td>12.120000</td>\n",
       "      <td>11.880000</td>\n",
       "      <td>11.930000</td>\n",
       "      <td>11.930000</td>\n",
       "      <td>92300</td>\n",
       "    </tr>\n",
       "    <tr>\n",
       "      <th>...</th>\n",
       "      <td>...</td>\n",
       "      <td>...</td>\n",
       "      <td>...</td>\n",
       "      <td>...</td>\n",
       "      <td>...</td>\n",
       "      <td>...</td>\n",
       "      <td>...</td>\n",
       "    </tr>\n",
       "    <tr>\n",
       "      <th>100</th>\n",
       "      <td>2020-07-13</td>\n",
       "      <td>18.070000</td>\n",
       "      <td>18.080000</td>\n",
       "      <td>17.889999</td>\n",
       "      <td>18.049999</td>\n",
       "      <td>18.049999</td>\n",
       "      <td>1492500</td>\n",
       "    </tr>\n",
       "    <tr>\n",
       "      <th>101</th>\n",
       "      <td>2020-07-20</td>\n",
       "      <td>18.120001</td>\n",
       "      <td>19.030001</td>\n",
       "      <td>18.059999</td>\n",
       "      <td>18.980000</td>\n",
       "      <td>18.980000</td>\n",
       "      <td>2855900</td>\n",
       "    </tr>\n",
       "    <tr>\n",
       "      <th>102</th>\n",
       "      <td>2020-07-27</td>\n",
       "      <td>19.320000</td>\n",
       "      <td>19.750000</td>\n",
       "      <td>19.260000</td>\n",
       "      <td>19.690001</td>\n",
       "      <td>19.690001</td>\n",
       "      <td>3417600</td>\n",
       "    </tr>\n",
       "    <tr>\n",
       "      <th>103</th>\n",
       "      <td>2020-08-03</td>\n",
       "      <td>19.639999</td>\n",
       "      <td>20.629999</td>\n",
       "      <td>19.540001</td>\n",
       "      <td>20.250000</td>\n",
       "      <td>20.250000</td>\n",
       "      <td>3365600</td>\n",
       "    </tr>\n",
       "    <tr>\n",
       "      <th>104</th>\n",
       "      <td>2020-08-10</td>\n",
       "      <td>20.379999</td>\n",
       "      <td>20.430000</td>\n",
       "      <td>20.129999</td>\n",
       "      <td>20.190001</td>\n",
       "      <td>20.190001</td>\n",
       "      <td>819100</td>\n",
       "    </tr>\n",
       "  </tbody>\n",
       "</table>\n",
       "<p>105 rows × 7 columns</p>\n",
       "</div>"
      ],
      "text/plain": [
       "           Date       Open       High        Low      Close  Adj Close  \\\n",
       "0    2018-08-13  11.840000  11.840000  11.740000  11.820000  11.820000   \n",
       "1    2018-08-20  11.880000  12.080000  11.850000  12.050000  12.050000   \n",
       "2    2018-08-27  12.060000  12.130000  11.970000  12.000000  12.000000   \n",
       "3    2018-09-03  11.910000  12.070000  11.900000  11.960000  11.960000   \n",
       "4    2018-09-10  11.970000  12.120000  11.880000  11.930000  11.930000   \n",
       "..          ...        ...        ...        ...        ...        ...   \n",
       "100  2020-07-13  18.070000  18.080000  17.889999  18.049999  18.049999   \n",
       "101  2020-07-20  18.120001  19.030001  18.059999  18.980000  18.980000   \n",
       "102  2020-07-27  19.320000  19.750000  19.260000  19.690001  19.690001   \n",
       "103  2020-08-03  19.639999  20.629999  19.540001  20.250000  20.250000   \n",
       "104  2020-08-10  20.379999  20.430000  20.129999  20.190001  20.190001   \n",
       "\n",
       "      Volume  \n",
       "0     508100  \n",
       "1     321800  \n",
       "2    1201300  \n",
       "3    1082200  \n",
       "4      92300  \n",
       "..       ...  \n",
       "100  1492500  \n",
       "101  2855900  \n",
       "102  3417600  \n",
       "103  3365600  \n",
       "104   819100  \n",
       "\n",
       "[105 rows x 7 columns]"
      ]
     },
     "execution_count": 19,
     "metadata": {},
     "output_type": "execute_result"
    }
   ],
   "source": [
    "pd.read_csv('AAAU.csv')"
   ]
  },
  {
   "cell_type": "code",
   "execution_count": 44,
   "metadata": {},
   "outputs": [],
   "source": [
    "#alphabetically sort directory files and skip the first element which would be a .DS_STORE file\n",
    "files = sorted(listdir())\n",
    "\n",
    "## Script for parsing thru CSVs and insert into Database\n",
    "for file in files[1:]:\n",
    "    \n",
    "    #read in data\n",
    "    if file.split('.')[1] == 'csv':\n",
    "        df = pd.read_csv(file)\n",
    "    else:\n",
    "        continue\n",
    "    #get the name of the ETF\n",
    "    name = file.split('.')[0]\n",
    "\n",
    "###\n",
    "#Completely clear the DB of all ETFs\n",
    "#     try:\n",
    "#         del_table(c,name)\n",
    "#     except:\n",
    "#         continue\n",
    "\n",
    "    create_table(c,name)\n",
    "#     conn.commit\n",
    "###\n",
    "\n",
    "#Go through each of the dataframes and insert each line into the db\n",
    "    for i in range(len(df)):\n",
    "        data = df.iloc[i]\n",
    "        \n",
    "        insert(c,name,tuple(data))\n",
    "    \n",
    "#after every table, commit and wait 1 second\n",
    "    conn.commit\n",
    "    time.sleep(1)\n",
    "\n",
    "# #redefine name to None to make it not be confused in the next iteration\n",
    "#     name = None"
   ]
  },
  {
   "cell_type": "code",
   "execution_count": null,
   "metadata": {
    "scrolled": true
   },
   "outputs": [],
   "source": [
    "#Check to see if we were able to store the data\n",
    "for file in files[1:6]:\n",
    "    print(retrieve(c,'AAAU'))"
   ]
  },
  {
   "cell_type": "code",
   "execution_count": null,
   "metadata": {
    "scrolled": false
   },
   "outputs": [],
   "source": [
    "retrieve(c,'AAAU.csv'.split('.')[0])"
   ]
  },
  {
   "cell_type": "code",
   "execution_count": null,
   "metadata": {},
   "outputs": [],
   "source": [
    "#data is inserting the same data over and over. Need to fix script"
   ]
  },
  {
   "cell_type": "code",
   "execution_count": null,
   "metadata": {},
   "outputs": [],
   "source": []
  },
  {
   "cell_type": "code",
   "execution_count": null,
   "metadata": {},
   "outputs": [],
   "source": []
  },
  {
   "cell_type": "markdown",
   "metadata": {},
   "source": [
    "The last volume column returns as bytes. To convert need to use from_bytes method when parsing data"
   ]
  },
  {
   "cell_type": "code",
   "execution_count": 34,
   "metadata": {
    "scrolled": true
   },
   "outputs": [
    {
     "name": "stdout",
     "output_type": "stream",
     "text": [
      "('2018-08-13', 11.84, 11.84, 11.74, 11.82, 11.82, b'\\xc4\\xc0\\x07\\x00\\x00\\x00\\x00\\x00')\n",
      "('2018-08-20', 11.88, 12.08, 11.85, 12.05, 12.05, b'\\x08\\xe9\\x04\\x00\\x00\\x00\\x00\\x00')\n",
      "('2018-08-27', 12.06, 12.13, 11.97, 12.0, 12.0, b'\\x94T\\x12\\x00\\x00\\x00\\x00\\x00')\n",
      "('2018-09-03', 11.91, 12.07, 11.9, 11.96, 11.96, b'X\\x83\\x10\\x00\\x00\\x00\\x00\\x00')\n",
      "('2018-09-10', 11.97, 12.12, 11.88, 11.93, 11.93, b'\\x8ch\\x01\\x00\\x00\\x00\\x00\\x00')\n",
      "('2010-07-19', 25.1, 25.540001, 24.700001, 25.280001000000002, 23.891865, b'\\x04\\n\\x01\\x00\\x00\\x00\\x00\\x00')\n",
      "('2010-07-26', 25.4, 25.4, 24.99, 25.1, 23.72175, b'\\x08\\x84\\x00\\x00\\x00\\x00\\x00\\x00')\n",
      "('2010-08-02', 25.700001, 25.91, 25.309998999999998, 25.709999, 24.298254, b'\\xbcM\\x00\\x00\\x00\\x00\\x00\\x00')\n",
      "('2010-08-09', 26.0, 26.23, 25.040001, 25.17, 23.787901, b' \\x1c\\x00\\x00\\x00\\x00\\x00\\x00')\n",
      "('2010-08-16', 25.280001000000002, 25.9, 25.24, 25.299999, 23.910763, b'\\x18.\\x00\\x00\\x00\\x00\\x00\\x00')\n",
      "('2010-07-19', 53.860001000000004, 56.080002, 53.669998, 55.939999, 46.317833, b'\\x94\\xda6\\x00\\x00\\x00\\x00\\x00')\n",
      "('2010-07-26', 55.84, 56.650002, 55.549999, 56.169998, 46.508278000000004, b'X>(\\x00\\x00\\x00\\x00\\x00')\n",
      "('2010-08-02', 57.240002000000004, 57.59, 56.419998, 56.970001, 47.17067, b'\\x08\\xeec\\x00\\x00\\x00\\x00\\x00')\n",
      "('2010-08-09', 57.189999, 57.450001, 54.34, 55.110001000000004, 45.630608, b'\\xdcz\\x12\\x00\\x00\\x00\\x00\\x00')\n",
      "('2010-08-16', 54.889998999999996, 56.049999, 54.889998999999996, 55.59, 46.028057000000004, b'\\x9c6\\x14\\x00\\x00\\x00\\x00\\x00')\n",
      "('2020-01-20', 25.07, 28.200001, 24.809998999999998, 24.864, 24.793831, b'\\xf8J\\x03\\x00\\x00\\x00\\x00\\x00')\n",
      "('2020-01-27', 24.620001000000002, 24.799999, 24.485001, 24.513, 24.443821, b'\\x80\\xce\\x01\\x00\\x00\\x00\\x00\\x00')\n",
      "('2020-02-03', 24.625999, 25.138, 24.58, 24.966998999999998, 24.896538, b'x\\xfa\\x05\\x00\\x00\\x00\\x00\\x00')\n",
      "('2020-02-10', 25.209999, 25.209999, 24.938999, 24.962, 24.891554, b'`;\\x00\\x00\\x00\\x00\\x00\\x00')\n",
      "('2020-02-17', 24.878, 25.200001, 24.870001000000002, 25.091998999999998, 25.021185, b'\\xb0\\xcc\\x00\\x00\\x00\\x00\\x00\\x00')\n",
      "('2018-06-25', 25.26, 25.27, 25.08, 25.209999, 24.538498, b'\\xd8\\x8c\\x04\\x00\\x00\\x00\\x00\\x00')\n",
      "('2018-07-02', 25.309998999999998, 25.690001000000002, 25.200001, 25.690001000000002, 25.005714, b'p0\\x00\\x00\\x00\\x00\\x00\\x00')\n",
      "('2018-07-09', 26.190001000000002, 26.309998999999998, 25.455, 25.540001, 24.859707, b'\\xf4\\xc9\\x00\\x00\\x00\\x00\\x00\\x00')\n",
      "('2018-07-16', 25.6, 25.870001000000002, 25.17, 25.290001, 24.616367, b'tr\\x00\\x00\\x00\\x00\\x00\\x00')\n",
      "('2018-07-23', 25.4, 25.6, 24.99, 25.555, 24.87431, b'<\\x8c\\x00\\x00\\x00\\x00\\x00\\x00')\n"
     ]
    }
   ],
   "source": [
    "#Check to see if we were able to store the data\n",
    "for file in files[1:6]:\n",
    "    data = retrieve(c,file.split('.')[0])"
   ]
  },
  {
   "cell_type": "code",
   "execution_count": 39,
   "metadata": {
    "scrolled": false
   },
   "outputs": [],
   "source": [
    "# type(int.from_bytes(rows[0][-1],byteorder = 'little'))"
   ]
  },
  {
   "cell_type": "code",
   "execution_count": 40,
   "metadata": {
    "scrolled": false
   },
   "outputs": [],
   "source": [
    "# for row in rows[:5]:\n",
    "#     print(int.from_bytes(row[-1], byteorder = 'little'))"
   ]
  },
  {
   "cell_type": "code",
   "execution_count": 45,
   "metadata": {},
   "outputs": [],
   "source": [
    "conn.commit()"
   ]
  },
  {
   "cell_type": "code",
   "execution_count": 46,
   "metadata": {},
   "outputs": [],
   "source": [
    "conn.close()"
   ]
  },
  {
   "cell_type": "code",
   "execution_count": null,
   "metadata": {},
   "outputs": [],
   "source": []
  }
 ],
 "metadata": {
  "kernelspec": {
   "display_name": "Python 3",
   "language": "python",
   "name": "python3"
  },
  "language_info": {
   "codemirror_mode": {
    "name": "ipython",
    "version": 3
   },
   "file_extension": ".py",
   "mimetype": "text/x-python",
   "name": "python",
   "nbconvert_exporter": "python",
   "pygments_lexer": "ipython3",
   "version": "3.7.6"
  }
 },
 "nbformat": 4,
 "nbformat_minor": 4
}
