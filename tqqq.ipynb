{
 "cells": [
  {
   "cell_type": "code",
   "execution_count": 21,
   "metadata": {},
   "outputs": [],
   "source": [
    "import pandas as pd\n",
    "import numpy as np"
   ]
  },
  {
   "cell_type": "code",
   "execution_count": 2,
   "metadata": {},
   "outputs": [],
   "source": [
    "from statsmodels.tsa.stattools import adfuller\n",
    "from statsmodels.graphics.tsaplots import plot_pacf\n",
    "from statsmodels.graphics.tsaplots import plot_acf\n",
    "from statsmodels.tsa.arima_model import ARIMA\n",
    "from statsmodels.tsa.arima_model import ARMA"
   ]
  },
  {
   "cell_type": "code",
   "execution_count": 49,
   "metadata": {},
   "outputs": [],
   "source": [
    "from statsmodels.stats.diagnostic import acorr_ljungbox"
   ]
  },
  {
   "cell_type": "code",
   "execution_count": 3,
   "metadata": {},
   "outputs": [],
   "source": [
    "import matplotlib.pyplot as plt"
   ]
  },
  {
   "cell_type": "code",
   "execution_count": 8,
   "metadata": {},
   "outputs": [],
   "source": [
    "raw_df = pd.read_csv('TQQQ.csv')"
   ]
  },
  {
   "cell_type": "code",
   "execution_count": 9,
   "metadata": {},
   "outputs": [
    {
     "data": {
      "text/html": [
       "<div>\n",
       "<style scoped>\n",
       "    .dataframe tbody tr th:only-of-type {\n",
       "        vertical-align: middle;\n",
       "    }\n",
       "\n",
       "    .dataframe tbody tr th {\n",
       "        vertical-align: top;\n",
       "    }\n",
       "\n",
       "    .dataframe thead th {\n",
       "        text-align: right;\n",
       "    }\n",
       "</style>\n",
       "<table border=\"1\" class=\"dataframe\">\n",
       "  <thead>\n",
       "    <tr style=\"text-align: right;\">\n",
       "      <th></th>\n",
       "      <th>Date</th>\n",
       "      <th>Open</th>\n",
       "      <th>High</th>\n",
       "      <th>Low</th>\n",
       "      <th>Close</th>\n",
       "      <th>Adj Close</th>\n",
       "      <th>Volume</th>\n",
       "    </tr>\n",
       "  </thead>\n",
       "  <tbody>\n",
       "    <tr>\n",
       "      <th>0</th>\n",
       "      <td>2019-09-16</td>\n",
       "      <td>63.990002</td>\n",
       "      <td>64.779999</td>\n",
       "      <td>63.799999</td>\n",
       "      <td>64.379997</td>\n",
       "      <td>64.356720</td>\n",
       "      <td>12140500</td>\n",
       "    </tr>\n",
       "    <tr>\n",
       "      <th>1</th>\n",
       "      <td>2019-09-17</td>\n",
       "      <td>64.360001</td>\n",
       "      <td>65.290001</td>\n",
       "      <td>63.980000</td>\n",
       "      <td>65.230003</td>\n",
       "      <td>65.206421</td>\n",
       "      <td>11349500</td>\n",
       "    </tr>\n",
       "    <tr>\n",
       "      <th>2</th>\n",
       "      <td>2019-09-18</td>\n",
       "      <td>64.860001</td>\n",
       "      <td>65.269997</td>\n",
       "      <td>62.750000</td>\n",
       "      <td>65.190002</td>\n",
       "      <td>65.166435</td>\n",
       "      <td>17757900</td>\n",
       "    </tr>\n",
       "    <tr>\n",
       "      <th>3</th>\n",
       "      <td>2019-09-19</td>\n",
       "      <td>65.529999</td>\n",
       "      <td>66.690002</td>\n",
       "      <td>65.099998</td>\n",
       "      <td>65.480003</td>\n",
       "      <td>65.456329</td>\n",
       "      <td>16596300</td>\n",
       "    </tr>\n",
       "    <tr>\n",
       "      <th>4</th>\n",
       "      <td>2019-09-20</td>\n",
       "      <td>65.760002</td>\n",
       "      <td>65.949997</td>\n",
       "      <td>62.740002</td>\n",
       "      <td>63.419998</td>\n",
       "      <td>63.397072</td>\n",
       "      <td>15439100</td>\n",
       "    </tr>\n",
       "  </tbody>\n",
       "</table>\n",
       "</div>"
      ],
      "text/plain": [
       "         Date       Open       High        Low      Close  Adj Close    Volume\n",
       "0  2019-09-16  63.990002  64.779999  63.799999  64.379997  64.356720  12140500\n",
       "1  2019-09-17  64.360001  65.290001  63.980000  65.230003  65.206421  11349500\n",
       "2  2019-09-18  64.860001  65.269997  62.750000  65.190002  65.166435  17757900\n",
       "3  2019-09-19  65.529999  66.690002  65.099998  65.480003  65.456329  16596300\n",
       "4  2019-09-20  65.760002  65.949997  62.740002  63.419998  63.397072  15439100"
      ]
     },
     "execution_count": 9,
     "metadata": {},
     "output_type": "execute_result"
    }
   ],
   "source": [
    "df.head()"
   ]
  },
  {
   "cell_type": "code",
   "execution_count": 15,
   "metadata": {},
   "outputs": [],
   "source": [
    "df = raw_df.iloc[:-1,[0,5]]"
   ]
  },
  {
   "cell_type": "code",
   "execution_count": 16,
   "metadata": {},
   "outputs": [
    {
     "data": {
      "text/html": [
       "<div>\n",
       "<style scoped>\n",
       "    .dataframe tbody tr th:only-of-type {\n",
       "        vertical-align: middle;\n",
       "    }\n",
       "\n",
       "    .dataframe tbody tr th {\n",
       "        vertical-align: top;\n",
       "    }\n",
       "\n",
       "    .dataframe thead th {\n",
       "        text-align: right;\n",
       "    }\n",
       "</style>\n",
       "<table border=\"1\" class=\"dataframe\">\n",
       "  <thead>\n",
       "    <tr style=\"text-align: right;\">\n",
       "      <th></th>\n",
       "      <th>Date</th>\n",
       "      <th>Adj Close</th>\n",
       "    </tr>\n",
       "  </thead>\n",
       "  <tbody>\n",
       "    <tr>\n",
       "      <th>0</th>\n",
       "      <td>2019-09-16</td>\n",
       "      <td>64.356720</td>\n",
       "    </tr>\n",
       "    <tr>\n",
       "      <th>1</th>\n",
       "      <td>2019-09-17</td>\n",
       "      <td>65.206421</td>\n",
       "    </tr>\n",
       "    <tr>\n",
       "      <th>2</th>\n",
       "      <td>2019-09-18</td>\n",
       "      <td>65.166435</td>\n",
       "    </tr>\n",
       "    <tr>\n",
       "      <th>3</th>\n",
       "      <td>2019-09-19</td>\n",
       "      <td>65.456329</td>\n",
       "    </tr>\n",
       "    <tr>\n",
       "      <th>4</th>\n",
       "      <td>2019-09-20</td>\n",
       "      <td>63.397072</td>\n",
       "    </tr>\n",
       "    <tr>\n",
       "      <th>...</th>\n",
       "      <td>...</td>\n",
       "      <td>...</td>\n",
       "    </tr>\n",
       "    <tr>\n",
       "      <th>247</th>\n",
       "      <td>2020-09-08</td>\n",
       "      <td>121.620003</td>\n",
       "    </tr>\n",
       "    <tr>\n",
       "      <th>248</th>\n",
       "      <td>2020-09-09</td>\n",
       "      <td>132.070007</td>\n",
       "    </tr>\n",
       "    <tr>\n",
       "      <th>249</th>\n",
       "      <td>2020-09-10</td>\n",
       "      <td>124.430000</td>\n",
       "    </tr>\n",
       "    <tr>\n",
       "      <th>250</th>\n",
       "      <td>2020-09-11</td>\n",
       "      <td>121.709999</td>\n",
       "    </tr>\n",
       "    <tr>\n",
       "      <th>251</th>\n",
       "      <td>2020-09-14</td>\n",
       "      <td>127.980003</td>\n",
       "    </tr>\n",
       "  </tbody>\n",
       "</table>\n",
       "<p>252 rows × 2 columns</p>\n",
       "</div>"
      ],
      "text/plain": [
       "           Date   Adj Close\n",
       "0    2019-09-16   64.356720\n",
       "1    2019-09-17   65.206421\n",
       "2    2019-09-18   65.166435\n",
       "3    2019-09-19   65.456329\n",
       "4    2019-09-20   63.397072\n",
       "..          ...         ...\n",
       "247  2020-09-08  121.620003\n",
       "248  2020-09-09  132.070007\n",
       "249  2020-09-10  124.430000\n",
       "250  2020-09-11  121.709999\n",
       "251  2020-09-14  127.980003\n",
       "\n",
       "[252 rows x 2 columns]"
      ]
     },
     "execution_count": 16,
     "metadata": {},
     "output_type": "execute_result"
    }
   ],
   "source": [
    "df"
   ]
  },
  {
   "cell_type": "code",
   "execution_count": 17,
   "metadata": {},
   "outputs": [
    {
     "data": {
      "text/html": [
       "<div>\n",
       "<style scoped>\n",
       "    .dataframe tbody tr th:only-of-type {\n",
       "        vertical-align: middle;\n",
       "    }\n",
       "\n",
       "    .dataframe tbody tr th {\n",
       "        vertical-align: top;\n",
       "    }\n",
       "\n",
       "    .dataframe thead th {\n",
       "        text-align: right;\n",
       "    }\n",
       "</style>\n",
       "<table border=\"1\" class=\"dataframe\">\n",
       "  <thead>\n",
       "    <tr style=\"text-align: right;\">\n",
       "      <th></th>\n",
       "      <th>Date</th>\n",
       "      <th>Adj Close</th>\n",
       "    </tr>\n",
       "  </thead>\n",
       "  <tbody>\n",
       "    <tr>\n",
       "      <th>247</th>\n",
       "      <td>2020-09-08</td>\n",
       "      <td>121.620003</td>\n",
       "    </tr>\n",
       "    <tr>\n",
       "      <th>248</th>\n",
       "      <td>2020-09-09</td>\n",
       "      <td>132.070007</td>\n",
       "    </tr>\n",
       "    <tr>\n",
       "      <th>249</th>\n",
       "      <td>2020-09-10</td>\n",
       "      <td>124.430000</td>\n",
       "    </tr>\n",
       "    <tr>\n",
       "      <th>250</th>\n",
       "      <td>2020-09-11</td>\n",
       "      <td>121.709999</td>\n",
       "    </tr>\n",
       "    <tr>\n",
       "      <th>251</th>\n",
       "      <td>2020-09-14</td>\n",
       "      <td>127.980003</td>\n",
       "    </tr>\n",
       "  </tbody>\n",
       "</table>\n",
       "</div>"
      ],
      "text/plain": [
       "           Date   Adj Close\n",
       "247  2020-09-08  121.620003\n",
       "248  2020-09-09  132.070007\n",
       "249  2020-09-10  124.430000\n",
       "250  2020-09-11  121.709999\n",
       "251  2020-09-14  127.980003"
      ]
     },
     "execution_count": 17,
     "metadata": {},
     "output_type": "execute_result"
    }
   ],
   "source": [
    "df.tail()"
   ]
  },
  {
   "cell_type": "code",
   "execution_count": 18,
   "metadata": {},
   "outputs": [
    {
     "data": {
      "text/plain": [
       "<matplotlib.axes._subplots.AxesSubplot at 0x1043fdc50>"
      ]
     },
     "execution_count": 18,
     "metadata": {},
     "output_type": "execute_result"
    },
    {
     "data": {
      "image/png": "[encoded data removed]",
      "text/plain": [
       "<Figure size 432x288 with 1 Axes>"
      ]
     },
     "metadata": {
      "needs_background": "light"
     },
     "output_type": "display_data"
    }
   ],
   "source": [
    "df.plot()"
   ]
  },
  {
   "cell_type": "code",
   "execution_count": 19,
   "metadata": {},
   "outputs": [
    {
     "data": {
      "text/plain": [
       "(-1.2976230117032148,\n",
       " 0.6302590858465122,\n",
       " 9,\n",
       " 242,\n",
       " {'1%': -3.457664132155201,\n",
       "  '5%': -2.8735585105960224,\n",
       "  '10%': -2.5731749894132916},\n",
       " 1414.3174732699629)"
      ]
     },
     "execution_count": 19,
     "metadata": {},
     "output_type": "execute_result"
    }
   ],
   "source": [
    "adfuller(df['Adj Close'])"
   ]
  },
  {
   "cell_type": "code",
   "execution_count": 22,
   "metadata": {},
   "outputs": [
    {
     "data": {
      "text/plain": [
       "(-1.685649162696673,\n",
       " 0.43852121422653667,\n",
       " 9,\n",
       " 242,\n",
       " {'1%': -3.457664132155201,\n",
       "  '5%': -2.8735585105960224,\n",
       "  '10%': -2.5731749894132916},\n",
       " -658.2174328141789)"
      ]
     },
     "execution_count": 22,
     "metadata": {},
     "output_type": "execute_result"
    }
   ],
   "source": [
    "adfuller(np.log(df['Adj Close']))"
   ]
  },
  {
   "cell_type": "code",
   "execution_count": 23,
   "metadata": {},
   "outputs": [],
   "source": [
    "a = df['Adj Close'][:126]\n",
    "b = df['Adj Close'][126:]"
   ]
  },
  {
   "cell_type": "code",
   "execution_count": 26,
   "metadata": {},
   "outputs": [
    {
     "data": {
      "text/plain": [
       "121    70.760002\n",
       "122    61.660000\n",
       "123    44.759998\n",
       "124    56.840000\n",
       "125    37.250000\n",
       "Name: Adj Close, dtype: float64"
      ]
     },
     "execution_count": 26,
     "metadata": {},
     "output_type": "execute_result"
    }
   ],
   "source": [
    "a.tail()"
   ]
  },
  {
   "cell_type": "code",
   "execution_count": 25,
   "metadata": {},
   "outputs": [
    {
     "data": {
      "text/plain": [
       "126    43.320000\n",
       "127    39.310001\n",
       "128    40.220001\n",
       "129    35.509998\n",
       "130    35.619999\n",
       "Name: Adj Close, dtype: float64"
      ]
     },
     "execution_count": 25,
     "metadata": {},
     "output_type": "execute_result"
    }
   ],
   "source": [
    "b.head()"
   ]
  },
  {
   "cell_type": "code",
   "execution_count": 40,
   "metadata": {},
   "outputs": [
    {
     "data": {
      "text/plain": [
       "(126, 126)"
      ]
     },
     "execution_count": 40,
     "metadata": {},
     "output_type": "execute_result"
    }
   ],
   "source": [
    "len(a),len(b)"
   ]
  },
  {
   "cell_type": "code",
   "execution_count": 36,
   "metadata": {},
   "outputs": [],
   "source": [
    "from scipy.stats import pearsonr"
   ]
  },
  {
   "cell_type": "code",
   "execution_count": 37,
   "metadata": {},
   "outputs": [
    {
     "data": {
      "text/plain": [
       "(0.6353114185102287, 1.3452914206861695e-15)"
      ]
     },
     "execution_count": 37,
     "metadata": {},
     "output_type": "execute_result"
    }
   ],
   "source": [
    "pearsonr(a,b)"
   ]
  },
  {
   "cell_type": "code",
   "execution_count": 45,
   "metadata": {},
   "outputs": [],
   "source": [
    "def cov(a,b):\n",
    "    mu_a = a.mean()\n",
    "    mu_b = b.mean()\n",
    "    S = 0\n",
    "    for x,y in zip(a,b):\n",
    "        S += (x - mu_a) * (y - mu_b)\n",
    "    return S/len(a)"
   ]
  },
  {
   "cell_type": "code",
   "execution_count": 46,
   "metadata": {},
   "outputs": [
    {
     "data": {
      "text/plain": [
       "344.0760439790099"
      ]
     },
     "execution_count": 46,
     "metadata": {},
     "output_type": "execute_result"
    }
   ],
   "source": [
    "cov(a,b)"
   ]
  },
  {
   "cell_type": "code",
   "execution_count": 77,
   "metadata": {},
   "outputs": [
    {
     "data": {
      "text/plain": [
       "(array([50.59385544,  7.39020151, 16.34794281, 16.3567813 , 16.54039046,\n",
       "        17.51716437, 22.72265051, 26.19125294, 33.95053614, 40.67165945,\n",
       "        40.93965509, 40.93986602, 43.26071287, 44.96764511, 46.44336108,\n",
       "        47.58146247, 47.75086877, 48.13716386, 48.70829559, 50.59385544]),\n",
       " array([           nan, 6.55801410e-03, 2.81896267e-04, 9.58115304e-04,\n",
       "        2.37349723e-03, 3.61656922e-03, 8.94895130e-04, 4.65530515e-04,\n",
       "        4.14735765e-05, 5.73922424e-06, 1.15651405e-05, 2.46814434e-05,\n",
       "        2.03957765e-05, 2.11891087e-05, 2.37235344e-05, 2.97001243e-05,\n",
       "        5.19736048e-05, 8.18213580e-05, 1.18060807e-04, 1.07115683e-04]))"
      ]
     },
     "execution_count": 77,
     "metadata": {},
     "output_type": "execute_result"
    }
   ],
   "source": [
    "#ljungbox tests if the group of autocorrelations are different from zero. \n",
    "#h_0 means random amount uncorrelated with the other values, h_a means they are correlated with other terms\n",
    "acorr_ljungbox(df['Adj Close'].diff(periods = 1)[1:], lags = range(20))"
   ]
  },
  {
   "cell_type": "code",
   "execution_count": 79,
   "metadata": {},
   "outputs": [
    {
     "data": {
      "image/png": "[encoded data removed]",
      "text/plain": [
       "<Figure size 432x288 with 1 Axes>"
      ]
     },
     "execution_count": 79,
     "metadata": {},
     "output_type": "execute_result"
    },
    {
     "data": {
      "image/png": "[encoded data removed]",
      "text/plain": [
       "<Figure size 432x288 with 1 Axes>"
      ]
     },
     "metadata": {
      "needs_background": "light"
     },
     "output_type": "display_data"
    },
    {
     "data": {
      "image/png": "[encoded data removed]",
      "text/plain": [
       "<Figure size 432x288 with 1 Axes>"
      ]
     },
     "metadata": {
      "needs_background": "light"
     },
     "output_type": "display_data"
    }
   ],
   "source": [
    "plot_acf(df['Adj Close'].diff(periods = 1)[1:])\n",
    "plot_pacf(df['Adj Close'].diff(periods = 1)[1:])"
   ]
  },
  {
   "cell_type": "code",
   "execution_count": 82,
   "metadata": {},
   "outputs": [],
   "source": [
    "from fbprophet import Prophet"
   ]
  },
  {
   "cell_type": "code",
   "execution_count": 94,
   "metadata": {},
   "outputs": [],
   "source": [
    "def prophetize(data,p):\n",
    "    '''\n",
    "    Data and numbre of periods\n",
    "    '''\n",
    "    m = Prophet() #initailize\n",
    "    \n",
    "    #format data\n",
    "    df = data.loc[:,['Date','Adj Close']]\n",
    "    df.rename(columns = {'Date': 'ds', 'Adj Close': 'y'}, inplace = True)\n",
    "    \n",
    "    #fit and forecast\n",
    "    model = m.fit(df) \n",
    "    future_frame = model.make_future_dataframe(periods=p, freq = 'W')\n",
    "    forecast = model.predict(future_frame)\n",
    "    \n",
    "#     #Get summary stats\n",
    "#     summary = pd.DataFrame()\n",
    "#     summary['Original'] = data['Adj Close'].values\n",
    "#     summary['Forecast'] = forecast['yhat'].values[:-4]\n",
    "    \n",
    "#     summary['Error'] = summary['Forecast'] - summary['Original']\n",
    "#     summary['Error^2'] = summary['Error']**2\n",
    "    \n",
    "#     RMSE = np.sqrt(sum(summary['Error^2']/len(summary)))\n",
    "    \n",
    "    return (m,forecast)"
   ]
  },
  {
   "cell_type": "code",
   "execution_count": 161,
   "metadata": {},
   "outputs": [
    {
     "name": "stderr",
     "output_type": "stream",
     "text": [
      "INFO:fbprophet:Disabling yearly seasonality. Run prophet with yearly_seasonality=True to override this.\n",
      "INFO:fbprophet:Disabling daily seasonality. Run prophet with daily_seasonality=True to override this.\n"
     ]
    }
   ],
   "source": [
    "m, forecast = prophetize(df,1)"
   ]
  },
  {
   "cell_type": "code",
   "execution_count": 162,
   "metadata": {},
   "outputs": [
    {
     "data": {
      "image/png": "[encoded data removed]",
      "text/plain": [
       "<Figure size 720x432 with 1 Axes>"
      ]
     },
     "metadata": {},
     "output_type": "display_data"
    }
   ],
   "source": [
    "fig1 = m.plot(forecast)"
   ]
  },
  {
   "cell_type": "code",
   "execution_count": 108,
   "metadata": {},
   "outputs": [
    {
     "name": "stdout",
     "output_type": "stream",
     "text": [
      "1   0.00013350964732157774\n",
      "2   0.002812301390404287\n",
      "3   0.009965811681207363\n",
      "4   0.021386893968209173\n",
      "5   0.030961407012671444\n",
      "6   0.05948153022287729\n",
      "7   0.14992386530534985\n",
      "8   0.08544440286794713\n",
      "9   0.11537678793679773\n",
      "10   0.013753757479585692\n",
      "11   0.014477869828758889\n",
      "12   0.024417422389061742\n",
      "13   0.04012972165920635\n",
      "14   0.11401630466823781\n",
      "15   0.09440285452495811\n",
      "16   0.0006139116752489427\n",
      "17   0.017868843259360303\n",
      "18   0.012574544018489788\n",
      "19   0.033828614186759434\n"
     ]
    }
   ],
   "source": [
    "for i in range(1,20):\n",
    "    print(i , ' ' ,adfuller(df['Adj Close'].diff(periods = i)[i:])[1])\n",
    "#keep a diferencing of 1 as the best"
   ]
  },
  {
   "cell_type": "code",
   "execution_count": 136,
   "metadata": {},
   "outputs": [],
   "source": [
    "differenced = df['Adj Close'].diff(periods = 1)[1:]"
   ]
  },
  {
   "cell_type": "code",
   "execution_count": 137,
   "metadata": {
    "scrolled": true
   },
   "outputs": [
    {
     "data": {
      "image/png": "[encoded data removed]",
      "text/plain": [
       "<Figure size 432x288 with 1 Axes>"
      ]
     },
     "metadata": {
      "needs_background": "light"
     },
     "output_type": "display_data"
    }
   ],
   "source": [
    "plot_acf(differenced)\n",
    "plt.show()"
   ]
  },
  {
   "cell_type": "code",
   "execution_count": 139,
   "metadata": {},
   "outputs": [],
   "source": [
    "acf = [1,2,6,8,9,22]"
   ]
  },
  {
   "cell_type": "code",
   "execution_count": 138,
   "metadata": {},
   "outputs": [
    {
     "data": {
      "image/png": "[encoded data removed]",
      "text/plain": [
       "<Figure size 432x288 with 1 Axes>"
      ]
     },
     "metadata": {
      "needs_background": "light"
     },
     "output_type": "display_data"
    }
   ],
   "source": [
    "plot_pacf(differenced)\n",
    "plt.show()"
   ]
  },
  {
   "cell_type": "code",
   "execution_count": 140,
   "metadata": {},
   "outputs": [],
   "source": [
    "pacf = [1,2,6,8]"
   ]
  },
  {
   "cell_type": "code",
   "execution_count": 113,
   "metadata": {},
   "outputs": [
    {
     "data": {
      "text/plain": [
       "<statsmodels.tsa.arima_model.ARIMA at 0x1a1d977a10>"
      ]
     },
     "execution_count": 113,
     "metadata": {},
     "output_type": "execute_result"
    }
   ],
   "source": [
    "ARIMA(differenced, order = (0,1,0))"
   ]
  },
  {
   "cell_type": "code",
   "execution_count": 144,
   "metadata": {},
   "outputs": [
    {
     "data": {
      "text/html": [
       "<table class=\"simpletable\">\n",
       "<caption>ARIMA Model Results</caption>\n",
       "<tr>\n",
       "  <th>Dep. Variable:</th>    <td>D.Adj Close</td>   <th>  No. Observations:  </th>    <td>250</td>  \n",
       "</tr>\n",
       "<tr>\n",
       "  <th>Model:</th>          <td>ARIMA(1, 1, 1)</td>  <th>  Log Likelihood     </th> <td>-750.545</td>\n",
       "</tr>\n",
       "<tr>\n",
       "  <th>Method:</th>             <td>css-mle</td>     <th>  S.D. of innovations</th>   <td>4.814</td> \n",
       "</tr>\n",
       "<tr>\n",
       "  <th>Date:</th>          <td>Tue, 15 Sep 2020</td> <th>  AIC                </th> <td>1509.089</td>\n",
       "</tr>\n",
       "<tr>\n",
       "  <th>Time:</th>              <td>16:31:17</td>     <th>  BIC                </th> <td>1523.175</td>\n",
       "</tr>\n",
       "<tr>\n",
       "  <th>Sample:</th>                <td>1</td>        <th>  HQIC               </th> <td>1514.759</td>\n",
       "</tr>\n",
       "<tr>\n",
       "  <th></th>                       <td> </td>        <th>                     </th>     <td> </td>   \n",
       "</tr>\n",
       "</table>\n",
       "<table class=\"simpletable\">\n",
       "<tr>\n",
       "          <td></td>             <th>coef</th>     <th>std err</th>      <th>z</th>      <th>P>|z|</th>  <th>[0.025</th>    <th>0.975]</th>  \n",
       "</tr>\n",
       "<tr>\n",
       "  <th>const</th>             <td>    0.0017</td> <td>    0.004</td> <td>    0.479</td> <td> 0.632</td> <td>   -0.005</td> <td>    0.009</td>\n",
       "</tr>\n",
       "<tr>\n",
       "  <th>ar.L1.D.Adj Close</th> <td>   -0.1682</td> <td>    0.062</td> <td>   -2.693</td> <td> 0.007</td> <td>   -0.291</td> <td>   -0.046</td>\n",
       "</tr>\n",
       "<tr>\n",
       "  <th>ma.L1.D.Adj Close</th> <td>   -1.0000</td> <td>    0.015</td> <td>  -68.483</td> <td> 0.000</td> <td>   -1.029</td> <td>   -0.971</td>\n",
       "</tr>\n",
       "</table>\n",
       "<table class=\"simpletable\">\n",
       "<caption>Roots</caption>\n",
       "<tr>\n",
       "    <td></td>   <th>            Real</th>  <th>         Imaginary</th> <th>         Modulus</th>  <th>        Frequency</th>\n",
       "</tr>\n",
       "<tr>\n",
       "  <th>AR.1</th> <td>          -5.9454</td> <td>          +0.0000j</td> <td>           5.9454</td> <td>           0.5000</td>\n",
       "</tr>\n",
       "<tr>\n",
       "  <th>MA.1</th> <td>           1.0000</td> <td>          +0.0000j</td> <td>           1.0000</td> <td>           0.0000</td>\n",
       "</tr>\n",
       "</table>"
      ],
      "text/plain": [
       "<class 'statsmodels.iolib.summary.Summary'>\n",
       "\"\"\"\n",
       "                             ARIMA Model Results                              \n",
       "==============================================================================\n",
       "Dep. Variable:            D.Adj Close   No. Observations:                  250\n",
       "Model:                 ARIMA(1, 1, 1)   Log Likelihood                -750.545\n",
       "Method:                       css-mle   S.D. of innovations              4.814\n",
       "Date:                Tue, 15 Sep 2020   AIC                           1509.089\n",
       "Time:                        16:31:17   BIC                           1523.175\n",
       "Sample:                             1   HQIC                          1514.759\n",
       "                                                                              \n",
       "=====================================================================================\n",
       "                        coef    std err          z      P>|z|      [0.025      0.975]\n",
       "-------------------------------------------------------------------------------------\n",
       "const                 0.0017      0.004      0.479      0.632      -0.005       0.009\n",
       "ar.L1.D.Adj Close    -0.1682      0.062     -2.693      0.007      -0.291      -0.046\n",
       "ma.L1.D.Adj Close    -1.0000      0.015    -68.483      0.000      -1.029      -0.971\n",
       "                                    Roots                                    \n",
       "=============================================================================\n",
       "                  Real          Imaginary           Modulus         Frequency\n",
       "-----------------------------------------------------------------------------\n",
       "AR.1           -5.9454           +0.0000j            5.9454            0.5000\n",
       "MA.1            1.0000           +0.0000j            1.0000            0.0000\n",
       "-----------------------------------------------------------------------------\n",
       "\"\"\""
      ]
     },
     "execution_count": 144,
     "metadata": {},
     "output_type": "execute_result"
    }
   ],
   "source": [
    "model = ARIMA(differenced, order = (1,1,1)).fit()\n",
    "model.summary()"
   ]
  },
  {
   "cell_type": "code",
   "execution_count": 151,
   "metadata": {},
   "outputs": [
    {
     "name": "stdout",
     "output_type": "stream",
     "text": [
      "(1, 2)\n",
      "(2, 6)\n"
     ]
    },
    {
     "name": "stderr",
     "output_type": "stream",
     "text": [
      "/opt/anaconda3/lib/python3.7/site-packages/statsmodels/base/model.py:548: HessianInversionWarning: Inverting hessian failed, no bse or cov_params available\n",
      "  'available', HessianInversionWarning)\n",
      "/opt/anaconda3/lib/python3.7/site-packages/statsmodels/tsa/tsatools.py:689: RuntimeWarning: overflow encountered in exp\n",
      "  newparams = ((1-np.exp(-params))/(1+np.exp(-params))).copy()\n",
      "/opt/anaconda3/lib/python3.7/site-packages/statsmodels/tsa/tsatools.py:689: RuntimeWarning: invalid value encountered in true_divide\n",
      "  newparams = ((1-np.exp(-params))/(1+np.exp(-params))).copy()\n",
      "/opt/anaconda3/lib/python3.7/site-packages/statsmodels/tsa/tsatools.py:690: RuntimeWarning: overflow encountered in exp\n",
      "  tmp = ((1-np.exp(-params))/(1+np.exp(-params))).copy()\n",
      "/opt/anaconda3/lib/python3.7/site-packages/statsmodels/tsa/tsatools.py:690: RuntimeWarning: invalid value encountered in true_divide\n",
      "  tmp = ((1-np.exp(-params))/(1+np.exp(-params))).copy()\n",
      "/opt/anaconda3/lib/python3.7/site-packages/statsmodels/base/model.py:548: HessianInversionWarning: Inverting hessian failed, no bse or cov_params available\n",
      "  'available', HessianInversionWarning)\n",
      "/opt/anaconda3/lib/python3.7/site-packages/statsmodels/base/model.py:568: ConvergenceWarning: Maximum Likelihood optimization failed to converge. Check mle_retvals\n",
      "  \"Check mle_retvals\", ConvergenceWarning)\n"
     ]
    },
    {
     "name": "stdout",
     "output_type": "stream",
     "text": [
      "(6, 8)\n",
      "(8, 8)\n",
      "(9, 2)\n",
      "(9, 2)\n"
     ]
    },
    {
     "data": {
      "text/plain": [
       "(9, 2)"
      ]
     },
     "execution_count": 151,
     "metadata": {},
     "output_type": "execute_result"
    }
   ],
   "source": [
    "minimum = 99999999\n",
    "keys = None\n",
    "best = None\n",
    "for p in acf:\n",
    "    for q in pacf:\n",
    "        try:\n",
    "            model = ARIMA(df['Adj Close'], order = (p,2,q)).fit()\n",
    "            if model.aic < minimum:\n",
    "                keys = (p,q)\n",
    "                best = model\n",
    "        except ValueError:\n",
    "            continue\n",
    "    print(keys)\n",
    "print('The best pair is: {}'.format(keys))"
   ]
  },
  {
   "cell_type": "code",
   "execution_count": 153,
   "metadata": {},
   "outputs": [
    {
     "data": {
      "text/html": [
       "<table class=\"simpletable\">\n",
       "<caption>ARIMA Model Results</caption>\n",
       "<tr>\n",
       "  <th>Dep. Variable:</th>   <td>D2.Adj Close</td>   <th>  No. Observations:  </th>    <td>250</td>  \n",
       "</tr>\n",
       "<tr>\n",
       "  <th>Model:</th>          <td>ARIMA(9, 2, 2)</td>  <th>  Log Likelihood     </th> <td>-738.099</td>\n",
       "</tr>\n",
       "<tr>\n",
       "  <th>Method:</th>             <td>css-mle</td>     <th>  S.D. of innovations</th>   <td>4.579</td> \n",
       "</tr>\n",
       "<tr>\n",
       "  <th>Date:</th>          <td>Tue, 15 Sep 2020</td> <th>  AIC                </th> <td>1502.199</td>\n",
       "</tr>\n",
       "<tr>\n",
       "  <th>Time:</th>              <td>16:50:18</td>     <th>  BIC                </th> <td>1547.978</td>\n",
       "</tr>\n",
       "<tr>\n",
       "  <th>Sample:</th>                <td>2</td>        <th>  HQIC               </th> <td>1520.623</td>\n",
       "</tr>\n",
       "<tr>\n",
       "  <th></th>                       <td> </td>        <th>                     </th>     <td> </td>   \n",
       "</tr>\n",
       "</table>\n",
       "<table class=\"simpletable\">\n",
       "<tr>\n",
       "           <td></td>             <th>coef</th>     <th>std err</th>      <th>z</th>      <th>P>|z|</th>  <th>[0.025</th>    <th>0.975]</th>  \n",
       "</tr>\n",
       "<tr>\n",
       "  <th>const</th>              <td>    0.0015</td> <td>    0.005</td> <td>    0.321</td> <td> 0.748</td> <td>   -0.008</td> <td>    0.011</td>\n",
       "</tr>\n",
       "<tr>\n",
       "  <th>ar.L1.D2.Adj Close</th> <td>    0.2741</td> <td>    0.419</td> <td>    0.654</td> <td> 0.513</td> <td>   -0.548</td> <td>    1.096</td>\n",
       "</tr>\n",
       "<tr>\n",
       "  <th>ar.L2.D2.Adj Close</th> <td>    0.2001</td> <td>    0.082</td> <td>    2.453</td> <td> 0.014</td> <td>    0.040</td> <td>    0.360</td>\n",
       "</tr>\n",
       "<tr>\n",
       "  <th>ar.L3.D2.Adj Close</th> <td>    0.0047</td> <td>    0.096</td> <td>    0.050</td> <td> 0.960</td> <td>   -0.183</td> <td>    0.192</td>\n",
       "</tr>\n",
       "<tr>\n",
       "  <th>ar.L4.D2.Adj Close</th> <td>   -0.0557</td> <td>    0.070</td> <td>   -0.801</td> <td> 0.423</td> <td>   -0.192</td> <td>    0.081</td>\n",
       "</tr>\n",
       "<tr>\n",
       "  <th>ar.L5.D2.Adj Close</th> <td>    0.0538</td> <td>    0.068</td> <td>    0.787</td> <td> 0.432</td> <td>   -0.080</td> <td>    0.188</td>\n",
       "</tr>\n",
       "<tr>\n",
       "  <th>ar.L6.D2.Adj Close</th> <td>   -0.1271</td> <td>    0.069</td> <td>   -1.834</td> <td> 0.067</td> <td>   -0.263</td> <td>    0.009</td>\n",
       "</tr>\n",
       "<tr>\n",
       "  <th>ar.L7.D2.Adj Close</th> <td>    0.0791</td> <td>    0.083</td> <td>    0.954</td> <td> 0.340</td> <td>   -0.083</td> <td>    0.242</td>\n",
       "</tr>\n",
       "<tr>\n",
       "  <th>ar.L8.D2.Adj Close</th> <td>   -0.1588</td> <td>    0.077</td> <td>   -2.056</td> <td> 0.040</td> <td>   -0.310</td> <td>   -0.007</td>\n",
       "</tr>\n",
       "<tr>\n",
       "  <th>ar.L9.D2.Adj Close</th> <td>    0.2032</td> <td>    0.083</td> <td>    2.458</td> <td> 0.014</td> <td>    0.041</td> <td>    0.365</td>\n",
       "</tr>\n",
       "<tr>\n",
       "  <th>ma.L1.D2.Adj Close</th> <td>   -1.3785</td> <td>    0.425</td> <td>   -3.240</td> <td> 0.001</td> <td>   -2.212</td> <td>   -0.545</td>\n",
       "</tr>\n",
       "<tr>\n",
       "  <th>ma.L2.D2.Adj Close</th> <td>    0.3785</td> <td>    0.425</td> <td>    0.890</td> <td> 0.373</td> <td>   -0.455</td> <td>    1.212</td>\n",
       "</tr>\n",
       "</table>\n",
       "<table class=\"simpletable\">\n",
       "<caption>Roots</caption>\n",
       "<tr>\n",
       "    <td></td>   <th>            Real</th>  <th>         Imaginary</th> <th>         Modulus</th>  <th>        Frequency</th>\n",
       "</tr>\n",
       "<tr>\n",
       "  <th>AR.1</th> <td>          -1.0089</td> <td>          -0.4377j</td> <td>           1.0997</td> <td>          -0.4349</td>\n",
       "</tr>\n",
       "<tr>\n",
       "  <th>AR.2</th> <td>          -1.0089</td> <td>          +0.4377j</td> <td>           1.0997</td> <td>           0.4349</td>\n",
       "</tr>\n",
       "<tr>\n",
       "  <th>AR.3</th> <td>          -0.5427</td> <td>          -1.1069j</td> <td>           1.2328</td> <td>          -0.3226</td>\n",
       "</tr>\n",
       "<tr>\n",
       "  <th>AR.4</th> <td>          -0.5427</td> <td>          +1.1069j</td> <td>           1.2328</td> <td>           0.3226</td>\n",
       "</tr>\n",
       "<tr>\n",
       "  <th>AR.5</th> <td>           0.3248</td> <td>          -1.1984j</td> <td>           1.2417</td> <td>          -0.2079</td>\n",
       "</tr>\n",
       "<tr>\n",
       "  <th>AR.6</th> <td>           0.3248</td> <td>          +1.1984j</td> <td>           1.2417</td> <td>           0.2079</td>\n",
       "</tr>\n",
       "<tr>\n",
       "  <th>AR.7</th> <td>           1.0075</td> <td>          -0.6388j</td> <td>           1.1930</td> <td>          -0.0899</td>\n",
       "</tr>\n",
       "<tr>\n",
       "  <th>AR.8</th> <td>           1.0075</td> <td>          +0.6388j</td> <td>           1.1930</td> <td>           0.0899</td>\n",
       "</tr>\n",
       "<tr>\n",
       "  <th>AR.9</th> <td>           1.2201</td> <td>          -0.0000j</td> <td>           1.2201</td> <td>          -0.0000</td>\n",
       "</tr>\n",
       "<tr>\n",
       "  <th>MA.1</th> <td>           1.0000</td> <td>          +0.0000j</td> <td>           1.0000</td> <td>           0.0000</td>\n",
       "</tr>\n",
       "<tr>\n",
       "  <th>MA.2</th> <td>           2.6418</td> <td>          +0.0000j</td> <td>           2.6418</td> <td>           0.0000</td>\n",
       "</tr>\n",
       "</table>"
      ],
      "text/plain": [
       "<class 'statsmodels.iolib.summary.Summary'>\n",
       "\"\"\"\n",
       "                             ARIMA Model Results                              \n",
       "==============================================================================\n",
       "Dep. Variable:           D2.Adj Close   No. Observations:                  250\n",
       "Model:                 ARIMA(9, 2, 2)   Log Likelihood                -738.099\n",
       "Method:                       css-mle   S.D. of innovations              4.579\n",
       "Date:                Tue, 15 Sep 2020   AIC                           1502.199\n",
       "Time:                        16:50:18   BIC                           1547.978\n",
       "Sample:                             2   HQIC                          1520.623\n",
       "                                                                              \n",
       "======================================================================================\n",
       "                         coef    std err          z      P>|z|      [0.025      0.975]\n",
       "--------------------------------------------------------------------------------------\n",
       "const                  0.0015      0.005      0.321      0.748      -0.008       0.011\n",
       "ar.L1.D2.Adj Close     0.2741      0.419      0.654      0.513      -0.548       1.096\n",
       "ar.L2.D2.Adj Close     0.2001      0.082      2.453      0.014       0.040       0.360\n",
       "ar.L3.D2.Adj Close     0.0047      0.096      0.050      0.960      -0.183       0.192\n",
       "ar.L4.D2.Adj Close    -0.0557      0.070     -0.801      0.423      -0.192       0.081\n",
       "ar.L5.D2.Adj Close     0.0538      0.068      0.787      0.432      -0.080       0.188\n",
       "ar.L6.D2.Adj Close    -0.1271      0.069     -1.834      0.067      -0.263       0.009\n",
       "ar.L7.D2.Adj Close     0.0791      0.083      0.954      0.340      -0.083       0.242\n",
       "ar.L8.D2.Adj Close    -0.1588      0.077     -2.056      0.040      -0.310      -0.007\n",
       "ar.L9.D2.Adj Close     0.2032      0.083      2.458      0.014       0.041       0.365\n",
       "ma.L1.D2.Adj Close    -1.3785      0.425     -3.240      0.001      -2.212      -0.545\n",
       "ma.L2.D2.Adj Close     0.3785      0.425      0.890      0.373      -0.455       1.212\n",
       "                                    Roots                                    \n",
       "=============================================================================\n",
       "                  Real          Imaginary           Modulus         Frequency\n",
       "-----------------------------------------------------------------------------\n",
       "AR.1           -1.0089           -0.4377j            1.0997           -0.4349\n",
       "AR.2           -1.0089           +0.4377j            1.0997            0.4349\n",
       "AR.3           -0.5427           -1.1069j            1.2328           -0.3226\n",
       "AR.4           -0.5427           +1.1069j            1.2328            0.3226\n",
       "AR.5            0.3248           -1.1984j            1.2417           -0.2079\n",
       "AR.6            0.3248           +1.1984j            1.2417            0.2079\n",
       "AR.7            1.0075           -0.6388j            1.1930           -0.0899\n",
       "AR.8            1.0075           +0.6388j            1.1930            0.0899\n",
       "AR.9            1.2201           -0.0000j            1.2201           -0.0000\n",
       "MA.1            1.0000           +0.0000j            1.0000            0.0000\n",
       "MA.2            2.6418           +0.0000j            2.6418            0.0000\n",
       "-----------------------------------------------------------------------------\n",
       "\"\"\""
      ]
     },
     "execution_count": 153,
     "metadata": {},
     "output_type": "execute_result"
    }
   ],
   "source": [
    "best.summary()"
   ]
  },
  {
   "cell_type": "code",
   "execution_count": 163,
   "metadata": {},
   "outputs": [],
   "source": [
    "forecast1 = best.forecast(steps = 4)[0]"
   ]
  },
  {
   "cell_type": "code",
   "execution_count": 164,
   "metadata": {},
   "outputs": [
    {
     "data": {
      "text/plain": [
       "array([126.08378865, 135.30180716, 130.04593997, 133.90178673])"
      ]
     },
     "execution_count": 164,
     "metadata": {},
     "output_type": "execute_result"
    }
   ],
   "source": [
    "forecast1"
   ]
  },
  {
   "cell_type": "code",
   "execution_count": 168,
   "metadata": {},
   "outputs": [
    {
     "data": {
      "text/plain": [
       "249    146.701880\n",
       "250    146.986683\n",
       "251    148.410841\n",
       "252    156.679043\n",
       "Name: yhat, dtype: float64"
      ]
     },
     "execution_count": 168,
     "metadata": {},
     "output_type": "execute_result"
    }
   ],
   "source": [
    "#prophet forecast\n",
    "forecast['yhat'][-4:]"
   ]
  },
  {
   "cell_type": "code",
   "execution_count": null,
   "metadata": {},
   "outputs": [],
   "source": []
  }
 ],
 "metadata": {
  "kernelspec": {
   "display_name": "Python 3",
   "language": "python",
   "name": "python3"
  },
  "language_info": {
   "codemirror_mode": {
    "name": "ipython",
    "version": 3
   },
   "file_extension": ".py",
   "mimetype": "text/x-python",
   "name": "python",
   "nbconvert_exporter": "python",
   "pygments_lexer": "ipython3",
   "version": "3.7.6"
  }
 },
 "nbformat": 4,
 "nbformat_minor": 4
}
